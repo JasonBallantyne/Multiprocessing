{
 "cells": [
  {
   "cell_type": "markdown",
   "metadata": {},
   "source": [
    "# Multiprocessing using Pools \n",
    "A simple framework for assessing the impact of multiprocessing on runtime on a multi-core machine. "
   ]
  },
  {
   "cell_type": "code",
   "execution_count": 1,
   "metadata": {},
   "outputs": [],
   "source": [
    "import timeit\n",
    "import matplotlib.pyplot as plt\n",
    "import random\n",
    "import numpy as np\n",
    "from time import perf_counter\n",
    "from scipy.optimize import curve_fit\n",
    "import time\n",
    "import math\n",
    "import multiprocessing\n",
    "from multiprocessing import Pool"
   ]
  },
  {
   "cell_type": "code",
   "execution_count": 2,
   "metadata": {},
   "outputs": [],
   "source": [
    "# A function for timing a job that uses a pool of processes.\n",
    "#  f is a function that takes a single argument\n",
    "#  data is an array of arguments on which f will be mapped\n",
    "#  pool_size is the number of processes in the pool. \n",
    "\n",
    "def pool_process(f, data, pool_size):\n",
    "    tp1 = time.time()\n",
    "    pool = Pool(processes=pool_size) # initialize the Pool.\n",
    "    result = pool.map(f, data)       # map f to the data using the Pool of processes to do the work \n",
    "    pool.close() # No more processes\n",
    "    pool.join()  # Wait for the pool processing to complete.\n",
    "    timetaken = (time.time()-tp1)\n",
    "#     print(\"Results\", result)\n",
    "#     print(\"Overall Time:\", int(time.time()-tp1))\n",
    "    return timetaken"
   ]
  },
  {
   "cell_type": "markdown",
   "metadata": {},
   "source": [
    "# 1. Testing"
   ]
  },
  {
   "cell_type": "markdown",
   "metadata": {},
   "source": [
    "## Load Target function separately \n",
    "- We must load the target function separately, the check_prime function will be loaded in from miscFunc.py"
   ]
  },
  {
   "cell_type": "code",
   "execution_count": 3,
   "metadata": {},
   "outputs": [],
   "source": [
    "import miscFunc as miscFunc # if miscFunc.py is changed the kernel needs to be restarted. "
   ]
  },
  {
   "cell_type": "code",
   "execution_count": 4,
   "metadata": {},
   "outputs": [
    {
     "name": "stdout",
     "output_type": "stream",
     "text": [
      "The number of CPU Cores on this machine :  8\n"
     ]
    }
   ],
   "source": [
    "# This testing was carried out on a Windows 10 OS with an Intel Core i7-9700k CPU\n",
    "nprocs = multiprocessing.cpu_count()\n",
    "print(\"The number of CPU Cores on this machine : \", nprocs)"
   ]
  },
  {
   "cell_type": "markdown",
   "metadata": {},
   "source": [
    "## Test 1"
   ]
  },
  {
   "cell_type": "markdown",
   "metadata": {},
   "source": [
    "- The pool_process function was adjusted to return the time taken and print statements were commented out.\n",
    "- We will generate large sets of work to be processed by the pool.\n",
    "- We will loop over the list of check_work and record the time taken to process each item in the list. We will increase the length of the prime numbers to be processed each iteration and repeat this for 1 Core, 2 Cores, 4 Cores, 6 Cores and 8 Cores.\n",
    "- The time taken to process the check_work for each core will be plotted on a graph and displayed.\n",
    "- The charts created in the associated pdf document were based on the larger (9 digit) check_work. This was in order to see more evident results. However, this takes a large amount of time to replicate. To aid with testing, a smaller (8 digit) check_work is provided below which runs quicker and provides similar results."
   ]
  },
  {
   "cell_type": "code",
   "execution_count": 5,
   "metadata": {},
   "outputs": [],
   "source": [
    "# Smaller check_work for testing/correction purposes.\n",
    "check_work = [12586753, 12586753, 12586753, 12586753, 12586753, 12586753, 12586753, 12586753]"
   ]
  },
  {
   "cell_type": "code",
   "execution_count": 6,
   "metadata": {},
   "outputs": [],
   "source": [
    "# Larger check_work for more evident results. CAUTION! Runs much slower!\n",
    "# check_work = [817504253, 817504301, 817504333, 817504339, 817504343, 817504349, 817504351, 817504361]"
   ]
  },
  {
   "cell_type": "code",
   "execution_count": 7,
   "metadata": {},
   "outputs": [
    {
     "data": {
      "image/png": "[encoded data removed]",
      "text/plain": [
       "<Figure size 432x288 with 1 Axes>"
      ]
     },
     "metadata": {
      "needs_background": "light"
     },
     "output_type": "display_data"
    }
   ],
   "source": [
    "# Looping over the check_work and appending the time taken to each list. Increasing the length of check_work on each loop.\n",
    "# Plotting the times taken for 1 Core, 2 Cores, 4 Cores, 6 Cores and 8 Cores to visualise the speedup acheived with multiple cores.\n",
    "\n",
    "c1TimeList = []\n",
    "c1PrimeLen = []\n",
    "\n",
    "c2TimeList = []\n",
    "c2PrimeLen = []\n",
    "\n",
    "c4TimeList = []\n",
    "c4PrimeLen = []\n",
    "\n",
    "c6TimeList = []\n",
    "c6PrimeLen = []\n",
    "\n",
    "c8TimeList = []\n",
    "c8PrimeLen = []\n",
    "\n",
    "for y in range(len(check_work)):\n",
    "    c1Time = pool_process(miscFunc.check_prime, check_work[:y], 1)\n",
    "    c1TimeList.append(c1Time)\n",
    "    c1PrimeLen.append(y)\n",
    "    \n",
    "    c2Time = pool_process(miscFunc.check_prime, check_work[:y], 2)\n",
    "    c2TimeList.append(c2Time)\n",
    "    c2PrimeLen.append(y)\n",
    "    \n",
    "    c4Time = pool_process(miscFunc.check_prime, check_work[:y], 4)\n",
    "    c4TimeList.append(c4Time)\n",
    "    c4PrimeLen.append(y)\n",
    "    \n",
    "    c6Time = pool_process(miscFunc.check_prime, check_work[:y], 6)\n",
    "    c6TimeList.append(c6Time)\n",
    "    c6PrimeLen.append(y)\n",
    "    \n",
    "    c8Time = pool_process(miscFunc.check_prime, check_work[:y], 8)\n",
    "    c8TimeList.append(c8Time)\n",
    "    c8PrimeLen.append(y)\n",
    "\n",
    "plt.xlabel('Length of list') \n",
    "plt.ylabel('Execution time in secs') \n",
    "plt.plot(c1PrimeLen, c1TimeList, label = \"1 Core\")\n",
    "plt.plot(c2PrimeLen, c2TimeList, label = \"2 Core\")\n",
    "plt.plot(c4PrimeLen, c4TimeList, label = \"4 Core\")\n",
    "plt.plot(c6PrimeLen, c6TimeList, label = \"6 Core\")\n",
    "plt.plot(c8PrimeLen, c8TimeList, label = \"8 Core\")\n",
    "\n",
    "plt.grid()\n",
    "plt.legend()\n",
    "plt.savefig(\"MultiprocessingGraph\")\n",
    "plt.show()"
   ]
  },
  {
   "cell_type": "code",
   "execution_count": 8,
   "metadata": {},
   "outputs": [
    {
     "name": "stdout",
     "output_type": "stream",
     "text": [
      "1 Core\n",
      "Time:  [0.1089012622833252, 44.13376593589783, 88.11390233039856, 133.4637906551361, 174.85788583755493, 223.63624715805054, 263.36535573005676, 306.4055030345917] \n",
      "Length of List : [0, 1, 2, 3, 4, 5, 6, 7]\n",
      "\n",
      "2 Cores\n",
      "Time:  [0.07878994941711426, 43.91679906845093, 46.37933373451233, 89.17154169082642, 92.29735946655273, 135.02117538452148, 136.6150186061859, 179.92285466194153] \n",
      "Length of List : [0, 1, 2, 3, 4, 5, 6, 7]\n",
      "\n",
      "4 Cores\n",
      "Time:  [0.0827791690826416, 44.091575622558594, 46.29633402824402, 48.22406268119812, 50.85218954086304, 93.00418734550476, 95.60405540466309, 96.65306901931763] \n",
      "Length of List : [0, 1, 2, 3, 4, 5, 6, 7]\n",
      "\n",
      "6 Cores\n",
      "Time:  [0.10172820091247559, 44.88088130950928, 46.29672646522522, 49.41405153274536, 49.88124942779541, 50.65430450439453, 52.63604402542114, 96.48963975906372] \n",
      "Length of List : [0, 1, 2, 3, 4, 5, 6, 7]\n",
      "\n",
      "8 Cores\n",
      "Time:  [0.1515953540802002, 43.986071825027466, 47.139668703079224, 47.68906354904175, 50.99787378311157, 52.598928451538086, 53.46735620498657, 56.073654651641846] \n",
      "Length of List : [0, 1, 2, 3, 4, 5, 6, 7]\n"
     ]
    }
   ],
   "source": [
    "# Printing the times taken and the associated length of list for each core.\n",
    "print(\"1 Core\\nTime: \", c1TimeList, \"\\nLength of List :\", c1PrimeLen)\n",
    "print(\"\\n2 Cores\\nTime: \", c2TimeList, \"\\nLength of List :\", c2PrimeLen)\n",
    "print(\"\\n4 Cores\\nTime: \", c4TimeList, \"\\nLength of List :\", c4PrimeLen)\n",
    "print(\"\\n6 Cores\\nTime: \", c6TimeList, \"\\nLength of List :\", c6PrimeLen)\n",
    "print(\"\\n8 Cores\\nTime: \", c8TimeList, \"\\nLength of List :\", c8PrimeLen)"
   ]
  },
  {
   "cell_type": "markdown",
   "metadata": {},
   "source": [
    "## Test 2"
   ]
  },
  {
   "cell_type": "markdown",
   "metadata": {},
   "source": [
    "- Plotting the overall time taken for each core to process the check_work on a bar chart."
   ]
  },
  {
   "cell_type": "code",
   "execution_count": 9,
   "metadata": {},
   "outputs": [
    {
     "name": "stdout",
     "output_type": "stream",
     "text": [
      "[306.4055030345917, 179.92285466194153, 96.65306901931763, 96.48963975906372, 56.073654651641846]\n"
     ]
    }
   ],
   "source": [
    "# Appending the 7th index (total time taken) of each core to a the overallTimes list\n",
    "overallTimes = []\n",
    "overallTimes.append(c1TimeList[7])\n",
    "overallTimes.append(c2TimeList[7])\n",
    "overallTimes.append(c4TimeList[7])\n",
    "overallTimes.append(c6TimeList[7])\n",
    "overallTimes.append(c8TimeList[7])\n",
    "print(overallTimes)"
   ]
  },
  {
   "cell_type": "code",
   "execution_count": 10,
   "metadata": {},
   "outputs": [
    {
     "data": {
      "image/png": "[encoded data removed]",
      "text/plain": [
       "<Figure size 432x288 with 1 Axes>"
      ]
     },
     "metadata": {
      "needs_background": "light"
     },
     "output_type": "display_data"
    }
   ],
   "source": [
    "# Plotting the overallTimes for each core and displaying it on a barchart\n",
    "\n",
    "fig = plt.figure()\n",
    "ax = fig.add_axes([0,0,1,1])\n",
    "cores = ['1 Core', '2 Cores', '4 Cores', '6 Cores', '8 Cores']\n",
    "barColour = [\"#004c6d\",\"#396b8c\",\"#608cad\",\"#87afcf\",\"#aed3f2\"]\n",
    "ax.bar(cores, overallTimes, color = barColour)\n",
    "\n",
    "fig.savefig('MultiprocessingBarChart.png', bbox_inches='tight')\n",
    "plt.show()"
   ]
  },
  {
   "cell_type": "markdown",
   "metadata": {},
   "source": [
    "## 2. b) Repeating the exercise on VirtualBox (Ubuntu 20.04)"
   ]
  },
  {
   "cell_type": "markdown",
   "metadata": {},
   "source": [
    "- The above exercises were reran on VirtualBox that was running Ubuntu 20.04\n",
    "- The below results were obtained"
   ]
  },
  {
   "cell_type": "markdown",
   "metadata": {},
   "source": [
    "## Test 1 (Ubuntu 20.04)"
   ]
  },
  {
   "cell_type": "code",
   "execution_count": 49,
   "metadata": {},
   "outputs": [
    {
     "data": {
      "image/png": "[encoded data removed]",
      "text/plain": [
       "<Figure size 432x288 with 1 Axes>"
      ]
     },
     "metadata": {
      "needs_background": "light"
     },
     "output_type": "display_data"
    }
   ],
   "source": [
    "# Displaying the results achieved by re-running the above tests on a Virtual Box that was running Ubuntu 20.04\n",
    "# Plotting the graph achieved by re-running the above tests.\n",
    "\n",
    "c1TimeLinux = [0.010396242141723633, 137.8972954750061, 273.4125328063965, 412.02193665504456, 542.0180885791779, 653.6165280342102, 785.1085364818573, 918.4384634494781]\n",
    "c1PrimeLinux = [0, 1, 2, 3, 4, 5, 6, 7]\n",
    "\n",
    "c2TimeLinux = [0.0084075927734375, 132.34928631782532, 141.12228345870972, 278.2508511543274, 272.26989006996155, 398.56704330444336, 401.5691080093384, 530.1266469955444]\n",
    "c2PrimeLinux = [0, 1, 2, 3, 4, 5, 6, 7]\n",
    "\n",
    "c4TimeLinux = [0.01510000228881836, 137.77675700187683, 143.0320131778717, 148.33379435539246, 145.3524944782257, 273.0189485549927, 278.0983462333679, 279.74221658706665]\n",
    "c4PrimeLinux = [0, 1, 2, 3, 4, 5, 6, 7]\n",
    "\n",
    "c6TimeLinux = [0.022725343704223633, 136.80967354774475, 143.02863073349, 145.7389621734619, 145.46165561676025, 147.15073561668396, 151.97410440444946, 280.33015036582947]\n",
    "c6PrimeLinux = [0, 1, 2, 3, 4, 5, 6, 7]\n",
    "\n",
    "c8TimeLinux = [0.05306720733642578, 137.20479774475098, 142.9452497959137, 146.35439205169678, 144.5972306728363, 148.17155480384827, 152.0201473236084, 155.26735734939575]\n",
    "c8PrimeLinux = [0, 1, 2, 3, 4, 5, 6, 7]\n",
    "\n",
    "\n",
    "plt.xlabel('Length of list') \n",
    "plt.ylabel('Execution time in secs') \n",
    "plt.plot(c1PrimeLinux, c1TimeLinux, label = \"1 Core\")\n",
    "plt.plot(c2PrimeLinux, c2TimeLinux, label = \"2 Core\")\n",
    "plt.plot(c4PrimeLinux, c4TimeLinux, label = \"4 Core\")\n",
    "plt.plot(c6PrimeLinux, c6TimeLinux, label = \"6 Core\")\n",
    "plt.plot(c8PrimeLinux, c8TimeLinux, label = \"8 Core\")\n",
    "\n",
    "plt.grid()\n",
    "plt.legend()\n",
    "plt.show()"
   ]
  },
  {
   "cell_type": "markdown",
   "metadata": {},
   "source": [
    "## Test 2 (Ubuntu 20.04)"
   ]
  },
  {
   "cell_type": "code",
   "execution_count": 50,
   "metadata": {},
   "outputs": [
    {
     "name": "stdout",
     "output_type": "stream",
     "text": [
      "[918.4384634494781, 530.1266469955444, 279.74221658706665, 280.33015036582947, 155.26735734939575]\n"
     ]
    }
   ],
   "source": [
    "# Appending the 7th index (total time taken) of each core for the results of the tests on a Ubuntu VirtualBox\n",
    "linuxOverallTimes = []\n",
    "linuxOverallTimes.append(c1TimeLinux[7])\n",
    "linuxOverallTimes.append(c2TimeLinux[7])\n",
    "linuxOverallTimes.append(c4TimeLinux[7])\n",
    "linuxOverallTimes.append(c6TimeLinux[7])\n",
    "linuxOverallTimes.append(c8TimeLinux[7])\n",
    "print(linuxOverallTimes)"
   ]
  },
  {
   "cell_type": "code",
   "execution_count": 51,
   "metadata": {},
   "outputs": [
    {
     "data": {
      "image/png": "[encoded data removed]",
      "text/plain": [
       "<Figure size 432x288 with 1 Axes>"
      ]
     },
     "metadata": {
      "needs_background": "light"
     },
     "output_type": "display_data"
    }
   ],
   "source": [
    "# Plotting the linuxOverallTimes for each core and displaying it on a barchart\n",
    "\n",
    "fig = plt.figure()\n",
    "ax = fig.add_axes([0,0,1,1])\n",
    "cores = ['1 Core', '2 Cores', '4 Cores', '6 Cores', '8 Cores']\n",
    "barColour = [\"#004c6d\",\"#396b8c\",\"#608cad\",\"#87afcf\",\"#aed3f2\"]\n",
    "ax.bar(cores, linuxOverallTimes, color = barColour)\n",
    "\n",
    "plt.show()"
   ]
  },
  {
   "cell_type": "markdown",
   "metadata": {},
   "source": [
    "## Results"
   ]
  },
  {
   "cell_type": "markdown",
   "metadata": {},
   "source": [
    "- Hard coding the results from a previous run of the longer check_work for Windows & Ubuntu incase the shorter check_work is used and these results are lost."
   ]
  },
  {
   "cell_type": "code",
   "execution_count": 52,
   "metadata": {},
   "outputs": [],
   "source": [
    "# Hard coding the full list of results for Windows that was generated using the longer check_work list\n",
    "\n",
    "c1TimeWindows = [0.1089012622833252, 44.13376593589783, 88.11390233039856, 133.4637906551361, 174.85788583755493, 223.63624715805054, 263.36535573005676, 306.4055030345917]\n",
    "c1PrimeWindows = [0, 1, 2, 3, 4, 5, 6, 7]\n",
    "\n",
    "c2TimeWindows = [0.07878994941711426, 43.91679906845093, 46.37933373451233, 89.17154169082642, 92.29735946655273, 135.02117538452148, 136.6150186061859, 179.92285466194153]\n",
    "c2PrimeWindows = [0, 1, 2, 3, 4, 5, 6, 7]\n",
    "\n",
    "c4TimeWindows = [0.0827791690826416, 44.091575622558594, 46.29633402824402, 48.22406268119812, 50.85218954086304, 93.00418734550476, 95.60405540466309, 96.65306901931763]\n",
    "c4PrimeWindows = [0, 1, 2, 3, 4, 5, 6, 7]\n",
    "\n",
    "c6TimeWindows = [0.10172820091247559, 44.88088130950928, 46.29672646522522, 49.41405153274536, 49.88124942779541, 50.65430450439453, 52.63604402542114, 96.48963975906372]\n",
    "c6PrimeWindows = [0, 1, 2, 3, 4, 5, 6, 7]\n",
    "\n",
    "c8TimeWindows = [0.05306720733642578, 137.20479774475098, 142.9452497959137, 146.35439205169678, 144.5972306728363, 148.17155480384827, 152.0201473236084, 155.26735734939575]\n",
    "c8PrimeWindows = [0, 1, 2, 3, 4, 5, 6, 7]"
   ]
  },
  {
   "cell_type": "code",
   "execution_count": 53,
   "metadata": {},
   "outputs": [
    {
     "name": "stdout",
     "output_type": "stream",
     "text": [
      "Windows Results: \n",
      "\n",
      "1 Core\n",
      "Time:  [0.1089012622833252, 44.13376593589783, 88.11390233039856, 133.4637906551361, 174.85788583755493, 223.63624715805054, 263.36535573005676, 306.4055030345917] \n",
      "Length of List : [0, 1, 2, 3, 4, 5, 6, 7]\n",
      "\n",
      "2 Cores\n",
      "Time:  [0.07878994941711426, 43.91679906845093, 46.37933373451233, 89.17154169082642, 92.29735946655273, 135.02117538452148, 136.6150186061859, 179.92285466194153] \n",
      "Length of List : [0, 1, 2, 3, 4, 5, 6, 7]\n",
      "\n",
      "4 Cores\n",
      "Time:  [0.0827791690826416, 44.091575622558594, 46.29633402824402, 48.22406268119812, 50.85218954086304, 93.00418734550476, 95.60405540466309, 96.65306901931763] \n",
      "Length of List : [0, 1, 2, 3, 4, 5, 6, 7]\n",
      "\n",
      "6 Cores\n",
      "Time:  [0.10172820091247559, 44.88088130950928, 46.29672646522522, 49.41405153274536, 49.88124942779541, 50.65430450439453, 52.63604402542114, 96.48963975906372] \n",
      "Length of List : [0, 1, 2, 3, 4, 5, 6, 7]\n",
      "\n",
      "8 Cores\n",
      "Time:  [0.05306720733642578, 137.20479774475098, 142.9452497959137, 146.35439205169678, 144.5972306728363, 148.17155480384827, 152.0201473236084, 155.26735734939575] \n",
      "Length of List : [0, 1, 2, 3, 4, 5, 6, 7]\n"
     ]
    }
   ],
   "source": [
    "# Printing the full list of Windows Results that was generated using the longer check_work list\n",
    "\n",
    "print(\"Windows Results: \\n\")\n",
    "print(\"1 Core\\nTime: \", c1TimeWindows, \"\\nLength of List :\", c1PrimeWindows)\n",
    "print(\"\\n2 Cores\\nTime: \", c2TimeWindows, \"\\nLength of List :\", c2PrimeWindows)\n",
    "print(\"\\n4 Cores\\nTime: \", c4TimeWindows, \"\\nLength of List :\", c4PrimeWindows)\n",
    "print(\"\\n6 Cores\\nTime: \", c6TimeWindows, \"\\nLength of List :\", c6PrimeWindows)\n",
    "print(\"\\n8 Cores\\nTime: \", c8TimeWindows, \"\\nLength of List :\", c8PrimeWindows)"
   ]
  },
  {
   "cell_type": "code",
   "execution_count": 54,
   "metadata": {},
   "outputs": [
    {
     "name": "stdout",
     "output_type": "stream",
     "text": [
      "Ubuntu Results: \n",
      "\n",
      "1 Core\n",
      "Time:  [0.010396242141723633, 137.8972954750061, 273.4125328063965, 412.02193665504456, 542.0180885791779, 653.6165280342102, 785.1085364818573, 918.4384634494781] \n",
      "Length of List : [0, 1, 2, 3, 4, 5, 6, 7]\n",
      "\n",
      "2 Cores\n",
      "Time:  [0.0084075927734375, 132.34928631782532, 141.12228345870972, 278.2508511543274, 272.26989006996155, 398.56704330444336, 401.5691080093384, 530.1266469955444] \n",
      "Length of List : [0, 1, 2, 3, 4, 5, 6, 7]\n",
      "\n",
      "4 Cores\n",
      "Time:  [0.01510000228881836, 137.77675700187683, 143.0320131778717, 148.33379435539246, 145.3524944782257, 273.0189485549927, 278.0983462333679, 279.74221658706665] \n",
      "Length of List : [0, 1, 2, 3, 4, 5, 6, 7]\n",
      "\n",
      "6 Cores\n",
      "Time:  [0.022725343704223633, 136.80967354774475, 143.02863073349, 145.7389621734619, 145.46165561676025, 147.15073561668396, 151.97410440444946, 280.33015036582947] \n",
      "Length of List : [0, 1, 2, 3, 4, 5, 6, 7]\n",
      "\n",
      "8 Cores\n",
      "Time:  [0.05306720733642578, 137.20479774475098, 142.9452497959137, 146.35439205169678, 144.5972306728363, 148.17155480384827, 152.0201473236084, 155.26735734939575] \n",
      "Length of List : [0, 1, 2, 3, 4, 5, 6, 7]\n"
     ]
    }
   ],
   "source": [
    "# Printing the full list of Ubuntu Results that was generated using the longer check_work list\n",
    "\n",
    "print(\"Ubuntu Results: \\n\")\n",
    "print(\"1 Core\\nTime: \", c1TimeLinux, \"\\nLength of List :\", c1PrimeLinux)\n",
    "print(\"\\n2 Cores\\nTime: \", c2TimeLinux, \"\\nLength of List :\", c2PrimeLinux)\n",
    "print(\"\\n4 Cores\\nTime: \", c4TimeLinux, \"\\nLength of List :\", c4PrimeLinux)\n",
    "print(\"\\n6 Cores\\nTime: \", c6TimeLinux, \"\\nLength of List :\", c6PrimeLinux)\n",
    "print(\"\\n8 Cores\\nTime: \", c8TimeLinux, \"\\nLength of List :\", c8PrimeLinux)"
   ]
  },
  {
   "cell_type": "markdown",
   "metadata": {},
   "source": [
    "## Comparison of Results"
   ]
  },
  {
   "cell_type": "markdown",
   "metadata": {},
   "source": [
    "- Comparing the overall running times between cores for the Windows tests.\n",
    "- We will calculate the % decrease between each of the cores."
   ]
  },
  {
   "cell_type": "code",
   "execution_count": 55,
   "metadata": {},
   "outputs": [
    {
     "name": "stdout",
     "output_type": "stream",
     "text": [
      "The execution time decreased by 41.28 % between 1 Core & 2 Cores\n"
     ]
    }
   ],
   "source": [
    "# Comparison of execution time between 1 Core & 2 Cores.\n",
    "\n",
    "core1Decrease = round((((306.4055030345917 - 179.92285466194153)/306.4055030345917)*100),2)\n",
    "print(\"The execution time decreased by\",core1Decrease,\"% between 1 Core & 2 Cores\")"
   ]
  },
  {
   "cell_type": "code",
   "execution_count": 56,
   "metadata": {},
   "outputs": [
    {
     "name": "stdout",
     "output_type": "stream",
     "text": [
      "The execution time decreased by 46.28 % between 2 Cores & 4 Cores\n"
     ]
    }
   ],
   "source": [
    "# Comparison of execution time between 2 Cores & 4 Cores.\n",
    "\n",
    "core2Decrease = round((((179.92285466194153 - 96.65306901931763)/179.92285466194153)*100),2)\n",
    "print(\"The execution time decreased by\",core2Decrease,\"% between 2 Cores & 4 Cores\")"
   ]
  },
  {
   "cell_type": "code",
   "execution_count": 57,
   "metadata": {},
   "outputs": [
    {
     "name": "stdout",
     "output_type": "stream",
     "text": [
      "The execution time decreased by 0.17 % between 4 Cores & 6 Cores\n"
     ]
    }
   ],
   "source": [
    "# Comparison of execution time between 4 Cores & 6 Cores.\n",
    "\n",
    "core4Decrease = round((((96.65306901931763 - 96.48963975906372)/96.65306901931763)*100),2)\n",
    "print(\"The execution time decreased by\",core4Decrease,\"% between 4 Cores & 6 Cores\")"
   ]
  },
  {
   "cell_type": "code",
   "execution_count": 58,
   "metadata": {},
   "outputs": [
    {
     "name": "stdout",
     "output_type": "stream",
     "text": [
      "The execution time decreased by 41.89 % between 6 Cores & 8 Cores\n"
     ]
    }
   ],
   "source": [
    "# Comparison of execution time between 6 Cores & 8 Cores.\n",
    "\n",
    "core6Decrease = round((((96.48963975906372 - 56.073654651641846)/96.48963975906372)*100),2)\n",
    "print(\"The execution time decreased by\",core6Decrease,\"% between 6 Cores & 8 Cores\")"
   ]
  },
  {
   "cell_type": "markdown",
   "metadata": {},
   "source": [
    "##### Ubuntu (VirtualBox) vs Windows Comparison\n",
    "- Comparing the overall times on Ubuntu using the VirtualBox vs Windows.\n",
    "- We will calculate the % increase between the two operating systems."
   ]
  },
  {
   "cell_type": "code",
   "execution_count": 59,
   "metadata": {},
   "outputs": [
    {
     "name": "stdout",
     "output_type": "stream",
     "text": [
      "Ubuntu took 199.75 % longer to complete with 1 Core\n"
     ]
    }
   ],
   "source": [
    "# Comparing speeds of 1 Core on Ubuntu (VirtualBox) vs Windows\n",
    "\n",
    "core1Increase = round((((918.4384634494781 - 306.4055030345917)/306.4055030345917)*100),2)\n",
    "print(\"Ubuntu took\",core1Increase,\"% longer to complete with 1 Core\")"
   ]
  },
  {
   "cell_type": "code",
   "execution_count": 60,
   "metadata": {},
   "outputs": [
    {
     "name": "stdout",
     "output_type": "stream",
     "text": [
      "Ubuntu took 194.64 % longer to complete with 2 Cores\n"
     ]
    }
   ],
   "source": [
    "# Comparing speeds of 2 Cores on Ubuntu (VirtualBox) vs Windows\n",
    "\n",
    "core2Increase = round((((530.1266469955444 - 179.92285466194153)/179.92285466194153)*100),2)\n",
    "print(\"Ubuntu took\",core2Increase,\"% longer to complete with 2 Cores\")"
   ]
  },
  {
   "cell_type": "code",
   "execution_count": 61,
   "metadata": {},
   "outputs": [
    {
     "name": "stdout",
     "output_type": "stream",
     "text": [
      "Ubuntu took 189.43 % longer to complete with 4 Cores\n"
     ]
    }
   ],
   "source": [
    "# Comparing speeds of 4 Cores on Ubuntu (VirtualBox) vs Windows\n",
    "\n",
    "core4Increase = round((((279.74221658706665 - 96.65306901931763)/96.65306901931763)*100),2)\n",
    "print(\"Ubuntu took\",core4Increase,\"% longer to complete with 4 Cores\")"
   ]
  },
  {
   "cell_type": "code",
   "execution_count": 62,
   "metadata": {},
   "outputs": [
    {
     "name": "stdout",
     "output_type": "stream",
     "text": [
      "Ubuntu took 190.53 % longer to complete with 6 Cores\n"
     ]
    }
   ],
   "source": [
    "# Comparing speeds of 6 Cores on Ubuntu (VirtualBox) vs Windows\n",
    "\n",
    "core6Increase = round((((280.33015036582947 - 96.48963975906372)/96.48963975906372)*100),2)\n",
    "print(\"Ubuntu took\",core6Increase,\"% longer to complete with 6 Cores\")"
   ]
  },
  {
   "cell_type": "code",
   "execution_count": 63,
   "metadata": {},
   "outputs": [
    {
     "name": "stdout",
     "output_type": "stream",
     "text": [
      "Ubuntu took 176.9 % longer to complete with 8 Cores\n"
     ]
    }
   ],
   "source": [
    "# Comparing speeds of 8 Cores on Ubuntu (VirtualBox) vs Windows\n",
    "\n",
    "core8Increase = round((((155.26735734939575 - 56.073654651641846)/56.073654651641846)*100),2)\n",
    "print(\"Ubuntu took\",core8Increase,\"% longer to complete with 8 Cores\")"
   ]
  },
  {
   "cell_type": "code",
   "execution_count": 64,
   "metadata": {},
   "outputs": [
    {
     "name": "stdout",
     "output_type": "stream",
     "text": [
      "On average, Ubuntu took 190.25 % longer to complete than Windows\n"
     ]
    }
   ],
   "source": [
    "# Calculating the average speed over all the cores\n",
    "\n",
    "averageIncrease = round((core1Increase + core2Increase + core4Increase + core6Increase + core8Increase)/5,2)\n",
    "print(\"On average, Ubuntu took\", averageIncrease,\"% longer to complete than Windows\")"
   ]
  }
 ],
 "metadata": {
  "anaconda-cloud": {},
  "kernelspec": {
   "display_name": "Python 3",
   "language": "python",
   "name": "python3"
  },
  "language_info": {
   "codemirror_mode": {
    "name": "ipython",
    "version": 3
   },
   "file_extension": ".py",
   "mimetype": "text/x-python",
   "name": "python",
   "nbconvert_exporter": "python",
   "pygments_lexer": "ipython3",
   "version": "3.8.3"
  }
 },
 "nbformat": 4,
 "nbformat_minor": 1
}
